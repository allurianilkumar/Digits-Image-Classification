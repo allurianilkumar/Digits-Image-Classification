{
  "metadata": {
    "kernelspec": {
      "name": "python",
      "display_name": "Python (Pyodide)",
      "language": "python"
    },
    "language_info": {
      "codemirror_mode": {
        "name": "python",
        "version": 3
      },
      "file_extension": ".py",
      "mimetype": "text/x-python",
      "name": "python",
      "nbconvert_exporter": "python",
      "pygments_lexer": "ipython3",
      "version": "3.8"
    }
  },
  "nbformat_minor": 4,
  "nbformat": 4,
  "cells": [
    {
      "cell_type": "markdown",
      "source": "<center>\n<h1>Multi-Classification</h1>\n<hr>\n<h2>Digits Image Classification </h2>\n<hr>\n</center>",
      "metadata": {}
    },
    {
      "cell_type": "code",
      "source": "# Importing the dataset\nfrom sklearn.datasets import load_digits\n\ndigits = load_digits()\nprint(digits)",
      "metadata": {
        "scrolled": true
      },
      "outputs": [
        {
          "name": "stdout",
          "output_type": "stream",
          "text": [
            "{'data': array([[ 0.,  0.,  5., ...,  0.,  0.,  0.],\n",
            "       [ 0.,  0.,  0., ..., 10.,  0.,  0.],\n",
            "       [ 0.,  0.,  0., ..., 16.,  9.,  0.],\n",
            "       ...,\n",
            "       [ 0.,  0.,  1., ...,  6.,  0.,  0.],\n",
            "       [ 0.,  0.,  2., ..., 12.,  0.,  0.],\n",
            "       [ 0.,  0., 10., ..., 12.,  1.,  0.]]), 'target': array([0, 1, 2, ..., 8, 9, 8]), 'target_names': array([0, 1, 2, 3, 4, 5, 6, 7, 8, 9]), 'images': array([[[ 0.,  0.,  5., ...,  1.,  0.,  0.],\n",
            "        [ 0.,  0., 13., ..., 15.,  5.,  0.],\n",
            "        [ 0.,  3., 15., ..., 11.,  8.,  0.],\n",
            "        ...,\n",
            "        [ 0.,  4., 11., ..., 12.,  7.,  0.],\n",
            "        [ 0.,  2., 14., ..., 12.,  0.,  0.],\n",
            "        [ 0.,  0.,  6., ...,  0.,  0.,  0.]],\n",
            "\n",
            "       [[ 0.,  0.,  0., ...,  5.,  0.,  0.],\n",
            "        [ 0.,  0.,  0., ...,  9.,  0.,  0.],\n",
            "        [ 0.,  0.,  3., ...,  6.,  0.,  0.],\n",
            "        ...,\n",
            "        [ 0.,  0.,  1., ...,  6.,  0.,  0.],\n",
            "        [ 0.,  0.,  1., ...,  6.,  0.,  0.],\n",
            "        [ 0.,  0.,  0., ..., 10.,  0.,  0.]],\n",
            "\n",
            "       [[ 0.,  0.,  0., ..., 12.,  0.,  0.],\n",
            "        [ 0.,  0.,  3., ..., 14.,  0.,  0.],\n",
            "        [ 0.,  0.,  8., ..., 16.,  0.,  0.],\n",
            "        ...,\n",
            "        [ 0.,  9., 16., ...,  0.,  0.,  0.],\n",
            "        [ 0.,  3., 13., ..., 11.,  5.,  0.],\n",
            "        [ 0.,  0.,  0., ..., 16.,  9.,  0.]],\n",
            "\n",
            "       ...,\n",
            "\n",
            "       [[ 0.,  0.,  1., ...,  1.,  0.,  0.],\n",
            "        [ 0.,  0., 13., ...,  2.,  1.,  0.],\n",
            "        [ 0.,  0., 16., ..., 16.,  5.,  0.],\n",
            "        ...,\n",
            "        [ 0.,  0., 16., ..., 15.,  0.,  0.],\n",
            "        [ 0.,  0., 15., ..., 16.,  0.,  0.],\n",
            "        [ 0.,  0.,  2., ...,  6.,  0.,  0.]],\n",
            "\n",
            "       [[ 0.,  0.,  2., ...,  0.,  0.,  0.],\n",
            "        [ 0.,  0., 14., ..., 15.,  1.,  0.],\n",
            "        [ 0.,  4., 16., ..., 16.,  7.,  0.],\n",
            "        ...,\n",
            "        [ 0.,  0.,  0., ..., 16.,  2.,  0.],\n",
            "        [ 0.,  0.,  4., ..., 16.,  2.,  0.],\n",
            "        [ 0.,  0.,  5., ..., 12.,  0.,  0.]],\n",
            "\n",
            "       [[ 0.,  0., 10., ...,  1.,  0.,  0.],\n",
            "        [ 0.,  2., 16., ...,  1.,  0.,  0.],\n",
            "        [ 0.,  0., 15., ..., 15.,  0.,  0.],\n",
            "        ...,\n",
            "        [ 0.,  4., 16., ..., 16.,  6.,  0.],\n",
            "        [ 0.,  8., 16., ..., 16.,  8.,  0.],\n",
            "        [ 0.,  1.,  8., ..., 12.,  1.,  0.]]]), 'DESCR': \".. _digits_dataset:\\n\\nOptical recognition of handwritten digits dataset\\n--------------------------------------------------\\n\\n**Data Set Characteristics:**\\n\\n    :Number of Instances: 5620\\n    :Number of Attributes: 64\\n    :Attribute Information: 8x8 image of integer pixels in the range 0..16.\\n    :Missing Attribute Values: None\\n    :Creator: E. Alpaydin (alpaydin '@' boun.edu.tr)\\n    :Date: July; 1998\\n\\nThis is a copy of the test set of the UCI ML hand-written digits datasets\\nhttp://archive.ics.uci.edu/ml/datasets/Optical+Recognition+of+Handwritten+Digits\\n\\nThe data set contains images of hand-written digits: 10 classes where\\neach class refers to a digit.\\n\\nPreprocessing programs made available by NIST were used to extract\\nnormalized bitmaps of handwritten digits from a preprinted form. From a\\ntotal of 43 people, 30 contributed to the training set and different 13\\nto the test set. 32x32 bitmaps are divided into nonoverlapping blocks of\\n4x4 and the number of on pixels are counted in each block. This generates\\nan input matrix of 8x8 where each element is an integer in the range\\n0..16. This reduces dimensionality and gives invariance to small\\ndistortions.\\n\\nFor info on NIST preprocessing routines, see M. D. Garris, J. L. Blue, G.\\nT. Candela, D. L. Dimmick, J. Geist, P. J. Grother, S. A. Janet, and C.\\nL. Wilson, NIST Form-Based Handprint Recognition System, NISTIR 5469,\\n1994.\\n\\n.. topic:: References\\n\\n  - C. Kaynak (1995) Methods of Combining Multiple Classifiers and Their\\n    Applications to Handwritten Digit Recognition, MSc Thesis, Institute of\\n    Graduate Studies in Science and Engineering, Bogazici University.\\n  - E. Alpaydin, C. Kaynak (1998) Cascading Classifiers, Kybernetika.\\n  - Ken Tang and Ponnuthurai N. Suganthan and Xi Yao and A. Kai Qin.\\n    Linear dimensionalityreduction using relevance weighted LDA. School of\\n    Electrical and Electronic Engineering Nanyang Technological University.\\n    2005.\\n  - Claudio Gentile. A New Approximate Maximal Margin Classification\\n    Algorithm. NIPS. 2000.\"}\n"
          ]
        }
      ],
      "execution_count": 1
    },
    {
      "cell_type": "code",
      "source": "import matplotlib.pyplot as plt\ndigits.images[0].shape\nlist = [10,100,100,45]\nfig = plt.figure()\nfor i,j in enumerate(list):\n    plt.subplot(2,2,i+1)\n    plt.imshow(digits.images[j],cmap='gray')",
      "metadata": {},
      "outputs": [],
      "execution_count": 2
    },
    {
      "cell_type": "code",
      "source": "# Preparing Data",
      "metadata": {},
      "outputs": [],
      "execution_count": 3
    },
    {
      "cell_type": "code",
      "source": "# Create feature and target arrays\nX =  digits.data\ny =  digits.target",
      "metadata": {},
      "outputs": [],
      "execution_count": 4
    },
    {
      "cell_type": "code",
      "source": "print(digits.images.shape)\nprint(digits.data.shape)",
      "metadata": {},
      "outputs": [
        {
          "name": "stdout",
          "output_type": "stream",
          "text": [
            "(1797, 8, 8)\n",
            "(1797, 64)\n"
          ]
        }
      ],
      "execution_count": 5
    },
    {
      "cell_type": "code",
      "source": "#Preparing Data",
      "metadata": {},
      "outputs": [],
      "execution_count": 6
    },
    {
      "cell_type": "code",
      "source": "n_samples = len(digits.images)\ndata = digits.images.reshape((n_samples, -1))",
      "metadata": {},
      "outputs": [],
      "execution_count": 7
    },
    {
      "cell_type": "markdown",
      "source": "## Step 1. Split the dataset into training data and testing data (<mark>10 points</mark>)",
      "metadata": {
        "collapsed": true,
        "jupyter": {
          "outputs_hidden": true
        }
      }
    },
    {
      "cell_type": "code",
      "source": "## Importing Relevant Libraries & Modules",
      "metadata": {},
      "outputs": [],
      "execution_count": 8
    },
    {
      "cell_type": "code",
      "source": "from sklearn import metrics\nfrom sklearn.metrics import accuracy_score\nfrom sklearn.model_selection import train_test_split",
      "metadata": {},
      "outputs": [],
      "execution_count": 9
    },
    {
      "cell_type": "markdown",
      "source": "<p>The next step is to use the train_test_split function to split our data into 50% training and 50% testing data.</p>",
      "metadata": {}
    },
    {
      "cell_type": "code",
      "source": "X_train, X_test, y_train, y_test = train_test_split(data, digits.target, test_size=0.5, shuffle=False)",
      "metadata": {},
      "outputs": [],
      "execution_count": 10
    },
    {
      "cell_type": "code",
      "source": "# Split into training and test set\nX_train, X_test, y_train, y_test = train_test_split(X, y, test_size = 0.2, random_state=42, stratify=y)",
      "metadata": {},
      "outputs": [],
      "execution_count": 11
    },
    {
      "cell_type": "markdown",
      "source": "## Step 2. Algorithm Analysis (<mark>80 points</mark>)",
      "metadata": {}
    },
    {
      "cell_type": "markdown",
      "source": "## Method 1. KNN",
      "metadata": {}
    },
    {
      "cell_type": "code",
      "source": "from sklearn.neighbors import KNeighborsClassifier\nknn = KNeighborsClassifier()\n# Fit the classifier to the training data\nknn.fit(X_train ,y_train)\ny_pred = knn.predict(X_test)\n#from sklearn.metrics import accuracy_score\n#accuracy_score(y_pred,y_test)",
      "metadata": {},
      "outputs": [],
      "execution_count": 12
    },
    {
      "cell_type": "markdown",
      "source": "classifier is defined by using KNN classification algorithm KNN_classifier",
      "metadata": {
        "collapsed": true,
        "jupyter": {
          "outputs_hidden": true
        }
      }
    },
    {
      "cell_type": "code",
      "source": "#accuracy_score\nfrom sklearn.metrics import accuracy_score\nknn_accuracy_score =round(accuracy_score(y_test, y_pred),2)\nprint('Accuracy:', knn_accuracy_score)\n\n#precision_score\nfrom sklearn.metrics import precision_score\nknn_precision_score=round(precision_score(y_test, y_pred, average='weighted'),2)\nprint(\"Precision Score : \",knn_precision_score)\n\n#recall_score\nfrom sklearn.metrics import recall_score\nknn_recall_score=round(recall_score(y_test, y_pred, average='weighted'),2)\nprint(\"Recall Score : \",knn_recall_score)",
      "metadata": {},
      "outputs": [
        {
          "name": "stdout",
          "output_type": "stream",
          "text": [
            "Accuracy: 0.98\n",
            "Precision Score :  0.98\n",
            "Recall Score :  0.98\n"
          ]
        }
      ],
      "execution_count": 13
    },
    {
      "cell_type": "code",
      "source": "#classification_report\nfrom sklearn.metrics import classification_report\nprint(classification_report(y_test,y_pred))",
      "metadata": {},
      "outputs": [
        {
          "name": "stdout",
          "output_type": "stream",
          "text": [
            "              precision    recall  f1-score   support\n",
            "\n",
            "           0       1.00      1.00      1.00        36\n",
            "           1       0.95      1.00      0.97        36\n",
            "           2       1.00      1.00      1.00        35\n",
            "           3       1.00      1.00      1.00        37\n",
            "           4       0.97      1.00      0.99        36\n",
            "           5       1.00      1.00      1.00        37\n",
            "           6       1.00      0.97      0.99        36\n",
            "           7       0.97      1.00      0.99        36\n",
            "           8       0.94      0.91      0.93        35\n",
            "           9       1.00      0.94      0.97        36\n",
            "\n",
            "   micro avg       0.98      0.98      0.98       360\n",
            "   macro avg       0.98      0.98      0.98       360\n",
            "weighted avg       0.98      0.98      0.98       360\n",
            "\n"
          ]
        }
      ],
      "execution_count": 14
    },
    {
      "cell_type": "code",
      "source": "from sklearn.neighbors import KNeighborsClassifier\nknn = KNeighborsClassifier()\n# Fit the classifier to the training data\nknn.fit(X_train, y_train)\n# Print the accuracy\nprint(knn.score(X_test, y_test))",
      "metadata": {},
      "outputs": [
        {
          "name": "stdout",
          "output_type": "stream",
          "text": [
            "0.9833333333333333\n"
          ]
        }
      ],
      "execution_count": 15
    },
    {
      "cell_type": "code",
      "source": "import numpy as np\n# Setup arrays to store train and test accuracies\nneighbors = np.arange(1, 9)\ntrain_accuracy = np.empty(len(neighbors))\ntest_accuracy = np.empty(len(neighbors))",
      "metadata": {},
      "outputs": [],
      "execution_count": 16
    },
    {
      "cell_type": "markdown",
      "source": "<b>Finding a good k value</b>\n\nLet's now compute and plot the training and testing accuracy scores for a variety of different neighbor values. By observing how the accuracy scores differ for the training and testing sets with different values of k, you can develop an intuition for overfitting and underfitting a model.\n\nLet's now streamline some of the steps we did above into a for loop.",
      "metadata": {}
    },
    {
      "cell_type": "code",
      "source": "# Loop over different values of k\nfor i, k in enumerate(neighbors):\n    # Setup a k-NN Classifier with k neighbors: knn\n    knn = KNeighborsClassifier(n_neighbors=k)\n\n    # Fit the classifier to the training data\n    knn.fit(X_train, y_train)\n    \n    #Compute accuracy on the training set\n    train_accuracy[i] = knn.score(X_train, y_train)\n\n    #Compute accuracy on the testing set\n    test_accuracy[i] = knn.score(X_test, y_test)",
      "metadata": {},
      "outputs": [],
      "execution_count": 17
    },
    {
      "cell_type": "code",
      "source": "# Generate plot\nplt.title('k-NN: Varying Number of Neighbors')\nplt.plot(neighbors, test_accuracy, label = 'Testing Accuracy')\nplt.plot(neighbors, train_accuracy, label = 'Training Accuracy')\nplt.legend()\nplt.xlabel('Number of Neighbors')\nplt.ylabel('Accuracy')\nplt.show()",
      "metadata": {},
      "outputs": [
        {
          "data": {
            "image/png": "[encoded data removed]",
            "text/plain": [
              "<Figure size 432x288 with 1 Axes>"
            ]
          },
          "metadata": {
            "needs_background": "light"
          },
          "output_type": "display_data"
        }
      ],
      "execution_count": 18
    },
    {
      "cell_type": "code",
      "source": "from sklearn.metrics import classification_report\nprint(classification_report(y_test,y_pred))",
      "metadata": {},
      "outputs": [
        {
          "name": "stdout",
          "output_type": "stream",
          "text": [
            "              precision    recall  f1-score   support\n",
            "\n",
            "           0       1.00      1.00      1.00        36\n",
            "           1       0.95      1.00      0.97        36\n",
            "           2       1.00      1.00      1.00        35\n",
            "           3       1.00      1.00      1.00        37\n",
            "           4       0.97      1.00      0.99        36\n",
            "           5       1.00      1.00      1.00        37\n",
            "           6       1.00      0.97      0.99        36\n",
            "           7       0.97      1.00      0.99        36\n",
            "           8       0.94      0.91      0.93        35\n",
            "           9       1.00      0.94      0.97        36\n",
            "\n",
            "   micro avg       0.98      0.98      0.98       360\n",
            "   macro avg       0.98      0.98      0.98       360\n",
            "weighted avg       0.98      0.98      0.98       360\n",
            "\n"
          ]
        }
      ],
      "execution_count": 19
    },
    {
      "cell_type": "markdown",
      "source": "## Method 2. Linear SVM",
      "metadata": {}
    },
    {
      "cell_type": "code",
      "source": "# Creating our linear SVM object\nfrom sklearn.svm import SVC\nfrom sklearn import datasets, svm, metrics\nsvm=SVC(C=1,kernel=\"linear\")",
      "metadata": {},
      "outputs": [],
      "execution_count": 20
    },
    {
      "cell_type": "code",
      "source": "# Fitting the training data in the SVM object declaring before\nsvm.fit(X_train,y_train)",
      "metadata": {},
      "outputs": [
        {
          "data": {
            "text/plain": [
              "SVC(C=1, cache_size=200, class_weight=None, coef0=0.0,\n",
              "  decision_function_shape='ovr', degree=3, gamma='auto_deprecated',\n",
              "  kernel='linear', max_iter=-1, probability=False, random_state=None,\n",
              "  shrinking=True, tol=0.001, verbose=False)"
            ]
          },
          "execution_count": 21,
          "metadata": {},
          "output_type": "execute_result"
        }
      ],
      "execution_count": 21
    },
    {
      "cell_type": "code",
      "source": "# Saving the predictions on the test set \ny_predict=svm.predict(X_test)",
      "metadata": {},
      "outputs": [],
      "execution_count": 22
    },
    {
      "cell_type": "code",
      "source": "# Measuring the accuracy of our predictions\nfrom sklearn import metrics\naccuracy=metrics.accuracy_score(y_test,y_predict)\nprint(accuracy)",
      "metadata": {},
      "outputs": [
        {
          "name": "stdout",
          "output_type": "stream",
          "text": [
            "0.9777777777777777\n"
          ]
        }
      ],
      "execution_count": 23
    },
    {
      "cell_type": "code",
      "source": "#accuracy_score\nfrom sklearn.metrics import accuracy_score\nsvm_accuracy_score=round(accuracy_score(y_test, y_pred),2)\nprint('Accuracy:', svm_accuracy_score)\n\n#precision_score\nfrom sklearn.metrics import precision_score\nsvm_precision_score=round(precision_score(y_test, y_pred, average='weighted'),2)\nprint(\"Precision Score :\",svm_precision_score)\n\n#recall_score\nfrom sklearn.metrics import recall_score\nsvm_recall_score=round(recall_score(y_test, y_pred, average='weighted'),2)\nprint(\"Recall Score :\",svm_recall_score)",
      "metadata": {},
      "outputs": [
        {
          "name": "stdout",
          "output_type": "stream",
          "text": [
            "Accuracy: 0.98\n",
            "Precision Score : 0.98\n",
            "Recall Score : 0.98\n"
          ]
        }
      ],
      "execution_count": 24
    },
    {
      "cell_type": "code",
      "source": "from sklearn.metrics import classification_report, confusion_matrix\nprint(confusion_matrix(y_test,y_predict))\nprint(classification_report(y_test,y_predict))",
      "metadata": {},
      "outputs": [
        {
          "name": "stdout",
          "output_type": "stream",
          "text": [
            "[[36  0  0  0  0  0  0  0  0  0]\n",
            " [ 0 34  0  0  0  0  0  0  1  1]\n",
            " [ 0  0 35  0  0  0  0  0  0  0]\n",
            " [ 0  0  0 36  0  0  0  0  0  1]\n",
            " [ 0  0  0  0 36  0  0  0  0  0]\n",
            " [ 0  0  0  0  0 37  0  0  0  0]\n",
            " [ 0  0  0  0  0  0 35  0  1  0]\n",
            " [ 0  0  0  0  0  0  0 36  0  0]\n",
            " [ 0  3  0  0  0  0  0  1 31  0]\n",
            " [ 0  0  0  0  0  0  0  0  0 36]]\n",
            "              precision    recall  f1-score   support\n",
            "\n",
            "           0       1.00      1.00      1.00        36\n",
            "           1       0.92      0.94      0.93        36\n",
            "           2       1.00      1.00      1.00        35\n",
            "           3       1.00      0.97      0.99        37\n",
            "           4       1.00      1.00      1.00        36\n",
            "           5       1.00      1.00      1.00        37\n",
            "           6       1.00      0.97      0.99        36\n",
            "           7       0.97      1.00      0.99        36\n",
            "           8       0.94      0.89      0.91        35\n",
            "           9       0.95      1.00      0.97        36\n",
            "\n",
            "   micro avg       0.98      0.98      0.98       360\n",
            "   macro avg       0.98      0.98      0.98       360\n",
            "weighted avg       0.98      0.98      0.98       360\n",
            "\n"
          ]
        }
      ],
      "execution_count": 25
    },
    {
      "cell_type": "markdown",
      "source": "## Method 3. Gaussian Kernal SVM",
      "metadata": {}
    },
    {
      "cell_type": "markdown",
      "source": "To use Gaussian kernel, you have to specify 'rbf' as value for the Kernel parameter of the SVC class.",
      "metadata": {}
    },
    {
      "cell_type": "code",
      "source": "from sklearn.svm import SVC\ngsvm = SVC(kernel='rbf')\ngsvm.fit(X_train, y_train)",
      "metadata": {},
      "outputs": [
        {
          "name": "stderr",
          "output_type": "stream",
          "text": [
            "C:\\Users\\admin\\Anaconda3\\lib\\site-packages\\sklearn\\svm\\base.py:196: FutureWarning: The default value of gamma will change from 'auto' to 'scale' in version 0.22 to account better for unscaled features. Set gamma explicitly to 'auto' or 'scale' to avoid this warning.\n",
            "  \"avoid this warning.\", FutureWarning)\n"
          ]
        },
        {
          "data": {
            "text/plain": [
              "SVC(C=1.0, cache_size=200, class_weight=None, coef0=0.0,\n",
              "  decision_function_shape='ovr', degree=3, gamma='auto_deprecated',\n",
              "  kernel='rbf', max_iter=-1, probability=False, random_state=None,\n",
              "  shrinking=True, tol=0.001, verbose=False)"
            ]
          },
          "execution_count": 26,
          "metadata": {},
          "output_type": "execute_result"
        }
      ],
      "execution_count": 26
    },
    {
      "cell_type": "code",
      "source": "#Prediction and Evaluation\ny_pred = gsvm.predict(X_test)",
      "metadata": {},
      "outputs": [],
      "execution_count": 27
    },
    {
      "cell_type": "code",
      "source": "#accuracy_score\nfrom sklearn.metrics import accuracy_score\ngsvm_accuracy_score = round(accuracy_score(y_test, y_pred),2)\nprint('Accuracy :', gsvm_accuracy_score)\n\n#precision_score\nfrom sklearn.metrics import precision_score\ngsvm_precision_score= round(precision_score(y_test, y_pred, average='weighted'),2)\nprint(\"Precision Score : \",gsvm_precision_score)\n\n#recall_score\nfrom sklearn.metrics import recall_score\ngsvm_recall_score= round(recall_score(y_test, y_pred, average='weighted'),2)\nprint(\"Recall Score : \",gsvm_recall_score)",
      "metadata": {},
      "outputs": [
        {
          "name": "stdout",
          "output_type": "stream",
          "text": [
            "Accuracy : 0.64\n",
            "Precision Score :  0.92\n",
            "Recall Score :  0.64\n"
          ]
        }
      ],
      "execution_count": 28
    },
    {
      "cell_type": "code",
      "source": "from sklearn.metrics import classification_report, confusion_matrix\nprint(confusion_matrix(y_test, y_pred))\nprint(classification_report(y_test, y_pred))",
      "metadata": {},
      "outputs": [
        {
          "name": "stdout",
          "output_type": "stream",
          "text": [
            "[[21  0  0  0  0 15  0  0  0  0]\n",
            " [ 0 22  0  0  0 14  0  0  0  0]\n",
            " [ 0  0 22  0  0 13  0  0  0  0]\n",
            " [ 0  0  0 32  0  5  0  0  0  0]\n",
            " [ 0  0  0  0 20 16  0  0  0  0]\n",
            " [ 0  0  0  0  0 37  0  0  0  0]\n",
            " [ 0  0  0  0  0 11 25  0  0  0]\n",
            " [ 0  0  0  0  0 18  0 18  0  0]\n",
            " [ 0  0  0  0  0 28  0  0  7  0]\n",
            " [ 0  0  0  0  0  8  0  0  0 28]]\n",
            "              precision    recall  f1-score   support\n",
            "\n",
            "           0       1.00      0.58      0.74        36\n",
            "           1       1.00      0.61      0.76        36\n",
            "           2       1.00      0.63      0.77        35\n",
            "           3       1.00      0.86      0.93        37\n",
            "           4       1.00      0.56      0.71        36\n",
            "           5       0.22      1.00      0.37        37\n",
            "           6       1.00      0.69      0.82        36\n",
            "           7       1.00      0.50      0.67        36\n",
            "           8       1.00      0.20      0.33        35\n",
            "           9       1.00      0.78      0.88        36\n",
            "\n",
            "   micro avg       0.64      0.64      0.64       360\n",
            "   macro avg       0.92      0.64      0.70       360\n",
            "weighted avg       0.92      0.64      0.70       360\n",
            "\n"
          ]
        }
      ],
      "execution_count": 29
    },
    {
      "cell_type": "markdown",
      "source": "## Method 4. Naive Bayes",
      "metadata": {}
    },
    {
      "cell_type": "code",
      "source": "from sklearn.naive_bayes import MultinomialNB\n\nnb = MultinomialNB()\n\nnb.fit(X_train, y_train)\n\ny_pred = nb.predict(X_test)",
      "metadata": {},
      "outputs": [],
      "execution_count": 30
    },
    {
      "cell_type": "code",
      "source": "#accuracy_score\nfrom sklearn.metrics import accuracy_score\nnb_accuracy_score =round(accuracy_score(y_test, y_pred),2)\nprint('Accuracy :', nb_accuracy_score)\n\n#precision_score\nfrom sklearn.metrics import precision_score\nnb_precision_score=round(precision_score(y_test, y_pred, average='weighted'),2)\nprint(\"Precision Score : \",nb_precision_score)\n\n#recall_score\nfrom sklearn.metrics import recall_score\nnb_recall_score=round(recall_score(y_test, y_pred, average='weighted'),2)\nprint(\"Recall Score : \",nb_recall_score)",
      "metadata": {},
      "outputs": [
        {
          "name": "stdout",
          "output_type": "stream",
          "text": [
            "Accuracy : 0.89\n",
            "Precision Score :  0.89\n",
            "Recall Score :  0.89\n"
          ]
        }
      ],
      "execution_count": 31
    },
    {
      "cell_type": "code",
      "source": "from sklearn.metrics import classification_report, confusion_matrix\nprint(confusion_matrix(y_test, y_pred))\nprint(classification_report(y_test, y_pred))",
      "metadata": {},
      "outputs": [
        {
          "name": "stdout",
          "output_type": "stream",
          "text": [
            "[[35  0  0  0  1  0  0  0  0  0]\n",
            " [ 0 23  5  0  0  1  1  0  2  4]\n",
            " [ 0  1 33  0  0  0  0  0  1  0]\n",
            " [ 0  0  1 36  0  0  0  0  0  0]\n",
            " [ 0  0  0  0 36  0  0  0  0  0]\n",
            " [ 0  0  0  0  1 31  0  0  0  5]\n",
            " [ 0  1  0  0  0  0 34  0  1  0]\n",
            " [ 0  0  0  0  0  0  0 36  0  0]\n",
            " [ 0  6  0  0  0  0  0  1 28  0]\n",
            " [ 0  1  0  1  0  0  0  3  3 28]]\n",
            "              precision    recall  f1-score   support\n",
            "\n",
            "           0       1.00      0.97      0.99        36\n",
            "           1       0.72      0.64      0.68        36\n",
            "           2       0.85      0.94      0.89        35\n",
            "           3       0.97      0.97      0.97        37\n",
            "           4       0.95      1.00      0.97        36\n",
            "           5       0.97      0.84      0.90        37\n",
            "           6       0.97      0.94      0.96        36\n",
            "           7       0.90      1.00      0.95        36\n",
            "           8       0.80      0.80      0.80        35\n",
            "           9       0.76      0.78      0.77        36\n",
            "\n",
            "   micro avg       0.89      0.89      0.89       360\n",
            "   macro avg       0.89      0.89      0.89       360\n",
            "weighted avg       0.89      0.89      0.89       360\n",
            "\n"
          ]
        }
      ],
      "execution_count": 32
    },
    {
      "cell_type": "markdown",
      "source": "## Method 5. Decision Tree",
      "metadata": {}
    },
    {
      "cell_type": "code",
      "source": "from sklearn.tree import DecisionTreeClassifier \ndtree = DecisionTreeClassifier()\ndtree.fit(X_train , y_train)",
      "metadata": {},
      "outputs": [
        {
          "data": {
            "text/plain": [
              "DecisionTreeClassifier(class_weight=None, criterion='gini', max_depth=None,\n",
              "            max_features=None, max_leaf_nodes=None,\n",
              "            min_impurity_decrease=0.0, min_impurity_split=None,\n",
              "            min_samples_leaf=1, min_samples_split=2,\n",
              "            min_weight_fraction_leaf=0.0, presort=False, random_state=None,\n",
              "            splitter='best')"
            ]
          },
          "execution_count": 33,
          "metadata": {},
          "output_type": "execute_result"
        }
      ],
      "execution_count": 33
    },
    {
      "cell_type": "code",
      "source": "dtree.score(X_test , y_test)",
      "metadata": {},
      "outputs": [
        {
          "data": {
            "text/plain": [
              "0.8166666666666667"
            ]
          },
          "execution_count": 34,
          "metadata": {},
          "output_type": "execute_result"
        }
      ],
      "execution_count": 34
    },
    {
      "cell_type": "code",
      "source": "#Prediction and Evaluation\ny_pred = dtree.predict(X_test)",
      "metadata": {},
      "outputs": [],
      "execution_count": 35
    },
    {
      "cell_type": "code",
      "source": "y_test.shape",
      "metadata": {},
      "outputs": [
        {
          "data": {
            "text/plain": [
              "(360,)"
            ]
          },
          "execution_count": 36,
          "metadata": {},
          "output_type": "execute_result"
        }
      ],
      "execution_count": 36
    },
    {
      "cell_type": "code",
      "source": "y_pred.shape",
      "metadata": {},
      "outputs": [
        {
          "data": {
            "text/plain": [
              "(360,)"
            ]
          },
          "execution_count": 37,
          "metadata": {},
          "output_type": "execute_result"
        }
      ],
      "execution_count": 37
    },
    {
      "cell_type": "code",
      "source": "#accuracy_score\nfrom sklearn.metrics import accuracy_score\ndtree_accuracy_score =round(accuracy_score(y_test, y_pred),2)\nprint('Accuracy :', dtree_accuracy_score)\n\n#precision_score\nfrom sklearn.metrics import precision_score\ndtree_precision_score=round(precision_score(y_test, y_pred, average='weighted'),2)\nprint(\"Precision Score : \",dtree_precision_score)\n\n#recall_score\nfrom sklearn.metrics import recall_score\ndtree_recall_score=round(recall_score(y_test, y_pred, average='weighted'),2)\nprint(\"Recall Score : \",dtree_recall_score)",
      "metadata": {},
      "outputs": [
        {
          "name": "stdout",
          "output_type": "stream",
          "text": [
            "Accuracy : 0.82\n",
            "Precision Score :  0.82\n",
            "Recall Score :  0.82\n"
          ]
        }
      ],
      "execution_count": 38
    },
    {
      "cell_type": "code",
      "source": "from sklearn.metrics import classification_report, confusion_matrix\nprint(confusion_matrix(y_test, y_pred))\nprint(classification_report(y_test, y_pred))",
      "metadata": {},
      "outputs": [
        {
          "name": "stdout",
          "output_type": "stream",
          "text": [
            "[[35  0  0  0  0  0  0  0  1  0]\n",
            " [ 0 25  2  2  0  0  3  1  3  0]\n",
            " [ 1  0 28  2  0  0  0  0  4  0]\n",
            " [ 0  0  1 32  0  1  0  0  1  2]\n",
            " [ 1  1  0  0 31  0  2  0  1  0]\n",
            " [ 0  0  0  0  1 35  0  0  0  1]\n",
            " [ 0  2  0  0  0  2 31  0  1  0]\n",
            " [ 0  1  0  2  2  1  1 29  0  0]\n",
            " [ 0  5  0  1  0  2  2  2 21  2]\n",
            " [ 0  1  0  2  0  2  0  3  1 27]]\n",
            "              precision    recall  f1-score   support\n",
            "\n",
            "           0       0.95      0.97      0.96        36\n",
            "           1       0.71      0.69      0.70        36\n",
            "           2       0.90      0.80      0.85        35\n",
            "           3       0.78      0.86      0.82        37\n",
            "           4       0.91      0.86      0.89        36\n",
            "           5       0.81      0.95      0.88        37\n",
            "           6       0.79      0.86      0.83        36\n",
            "           7       0.83      0.81      0.82        36\n",
            "           8       0.64      0.60      0.62        35\n",
            "           9       0.84      0.75      0.79        36\n",
            "\n",
            "   micro avg       0.82      0.82      0.82       360\n",
            "   macro avg       0.82      0.82      0.81       360\n",
            "weighted avg       0.82      0.82      0.82       360\n",
            "\n"
          ]
        }
      ],
      "execution_count": 39
    },
    {
      "cell_type": "markdown",
      "source": "## Method 6. Random Forest",
      "metadata": {}
    },
    {
      "cell_type": "code",
      "source": "from sklearn.ensemble import RandomForestClassifier\n\nrf=RandomForestClassifier(random_state=42)\nrf.fit(X_train,y_train)\n",
      "metadata": {},
      "outputs": [
        {
          "name": "stderr",
          "output_type": "stream",
          "text": [
            "C:\\Users\\admin\\Anaconda3\\lib\\site-packages\\sklearn\\ensemble\\forest.py:246: FutureWarning: The default value of n_estimators will change from 10 in version 0.20 to 100 in 0.22.\n",
            "  \"10 in version 0.20 to 100 in 0.22.\", FutureWarning)\n"
          ]
        },
        {
          "data": {
            "text/plain": [
              "RandomForestClassifier(bootstrap=True, class_weight=None, criterion='gini',\n",
              "            max_depth=None, max_features='auto', max_leaf_nodes=None,\n",
              "            min_impurity_decrease=0.0, min_impurity_split=None,\n",
              "            min_samples_leaf=1, min_samples_split=2,\n",
              "            min_weight_fraction_leaf=0.0, n_estimators=10, n_jobs=None,\n",
              "            oob_score=False, random_state=42, verbose=0, warm_start=False)"
            ]
          },
          "execution_count": 40,
          "metadata": {},
          "output_type": "execute_result"
        }
      ],
      "execution_count": 40
    },
    {
      "cell_type": "code",
      "source": "rf.fit(X_train , y_train)",
      "metadata": {},
      "outputs": [
        {
          "data": {
            "text/plain": [
              "RandomForestClassifier(bootstrap=True, class_weight=None, criterion='gini',\n",
              "            max_depth=None, max_features='auto', max_leaf_nodes=None,\n",
              "            min_impurity_decrease=0.0, min_impurity_split=None,\n",
              "            min_samples_leaf=1, min_samples_split=2,\n",
              "            min_weight_fraction_leaf=0.0, n_estimators=10, n_jobs=None,\n",
              "            oob_score=False, random_state=42, verbose=0, warm_start=False)"
            ]
          },
          "execution_count": 41,
          "metadata": {},
          "output_type": "execute_result"
        }
      ],
      "execution_count": 41
    },
    {
      "cell_type": "code",
      "source": "rf.score(X_test, y_test)",
      "metadata": {},
      "outputs": [
        {
          "data": {
            "text/plain": [
              "0.9361111111111111"
            ]
          },
          "execution_count": 42,
          "metadata": {},
          "output_type": "execute_result"
        }
      ],
      "execution_count": 42
    },
    {
      "cell_type": "code",
      "source": "y_pred= rf.predict(X_train)",
      "metadata": {},
      "outputs": [],
      "execution_count": 43
    },
    {
      "cell_type": "code",
      "source": "accuracy_score(y_train,rf.predict(X_train))",
      "metadata": {},
      "outputs": [
        {
          "data": {
            "text/plain": [
              "0.9986082115518441"
            ]
          },
          "execution_count": 44,
          "metadata": {},
          "output_type": "execute_result"
        }
      ],
      "execution_count": 44
    },
    {
      "cell_type": "code",
      "source": "#accuracy_score\nfrom sklearn.metrics import accuracy_score\nrf_accuracy_score =round(accuracy_score(y_train, y_pred),2)\nprint('Accuracy :', rf_accuracy_score)\n",
      "metadata": {},
      "outputs": [
        {
          "name": "stdout",
          "output_type": "stream",
          "text": [
            "Accuracy : 1.0\n"
          ]
        }
      ],
      "execution_count": 45
    },
    {
      "cell_type": "code",
      "source": "#precision_score\nfrom sklearn.metrics import precision_score\n# rf_precision_score=precision_score(y_train, y_pred)\nrf_precision_score = round(accuracy_score(y_train, y_pred),2)\nprint(\"Precision Score : \",rf_precision_score)",
      "metadata": {},
      "outputs": [
        {
          "name": "stdout",
          "output_type": "stream",
          "text": [
            "Precision Score :  1.0\n"
          ]
        }
      ],
      "execution_count": 46
    },
    {
      "cell_type": "code",
      "source": "# #recall_score\nfrom sklearn.metrics import recall_score\nrf_recall_score= round(recall_score(y_train, y_pred, average='weighted'),2)\nprint(\"Recall Score : \",rf_recall_score)",
      "metadata": {},
      "outputs": [
        {
          "name": "stdout",
          "output_type": "stream",
          "text": [
            "Recall Score :  1.0\n"
          ]
        }
      ],
      "execution_count": 47
    },
    {
      "cell_type": "markdown",
      "source": "## Method 7. Voting Classifier",
      "metadata": {
        "collapsed": true,
        "jupyter": {
          "outputs_hidden": true
        }
      }
    },
    {
      "cell_type": "code",
      "source": "from sklearn.ensemble import VotingClassifier\nfrom sklearn.linear_model import LogisticRegression\nfrom sklearn.naive_bayes import GaussianNB",
      "metadata": {},
      "outputs": [],
      "execution_count": 48
    },
    {
      "cell_type": "code",
      "source": "clf1 = LogisticRegression(multi_class='multinomial', random_state=10)\nclf2 = RandomForestClassifier(n_estimators=50, random_state=10)\nclf3 = GaussianNB()",
      "metadata": {},
      "outputs": [],
      "execution_count": 49
    },
    {
      "cell_type": "code",
      "source": "voting = VotingClassifier(estimators=[('dtree', dtree), ('rf', rf), ('nb', nb)], voting='soft')",
      "metadata": {},
      "outputs": [],
      "execution_count": 50
    },
    {
      "cell_type": "code",
      "source": "voting = voting.fit(X_train, y_train)",
      "metadata": {},
      "outputs": [],
      "execution_count": 51
    },
    {
      "cell_type": "code",
      "source": "voting.score(X_test, y_test)",
      "metadata": {},
      "outputs": [
        {
          "data": {
            "text/plain": [
              "0.9416666666666667"
            ]
          },
          "execution_count": 52,
          "metadata": {},
          "output_type": "execute_result"
        }
      ],
      "execution_count": 52
    },
    {
      "cell_type": "code",
      "source": "#Prediction and Evaluation\ny_pred = dtree.predict(X_test)",
      "metadata": {},
      "outputs": [],
      "execution_count": 53
    },
    {
      "cell_type": "code",
      "source": "#accuracy_score\nfrom sklearn.metrics import accuracy_score\nvoting_accuracy_score = round(accuracy_score(y_test, y_pred),2)\nprint('Accuracy :', voting_accuracy_score)\n\n#precision_score\nfrom sklearn.metrics import precision_score\nvoting_precision_score= round(precision_score(y_test, y_pred, average='weighted'),2)\nprint(\"Precision Score : \",voting_precision_score)\n\n#recall_score\nfrom sklearn.metrics import recall_score\nvoting_recall_score= round(recall_score(y_test, y_pred, average='weighted'),2)\nprint(\"Recall Score : \",voting_recall_score)",
      "metadata": {},
      "outputs": [
        {
          "name": "stdout",
          "output_type": "stream",
          "text": [
            "Accuracy : 0.82\n",
            "Precision Score :  0.82\n",
            "Recall Score :  0.82\n"
          ]
        }
      ],
      "execution_count": 54
    },
    {
      "cell_type": "markdown",
      "source": "## Method 8. Bagging",
      "metadata": {
        "collapsed": true,
        "jupyter": {
          "outputs_hidden": true
        }
      }
    },
    {
      "cell_type": "code",
      "source": "from sklearn.ensemble import BaggingClassifier\nfrom sklearn.datasets import make_classification\nfrom sklearn.svm import SVC",
      "metadata": {},
      "outputs": [],
      "execution_count": 55
    },
    {
      "cell_type": "code",
      "source": "lr = LogisticRegression();\n# bnb = BernoulliNB()\ngnb = GaussianNB()\n\nbase_methods=[gnb]\nfor bm  in base_methods:\n print(\"Method: \", bm)\n bag_model=BaggingClassifier(base_estimator=bm,n_estimators=100,bootstrap=True)\n bag_model=bag_model.fit(X_train,y_train)\n y_test_pred=bag_model.predict(X_test)\n print(bag_model.score(X_test, y_test))\n print(confusion_matrix(y_test, y_test_pred))",
      "metadata": {},
      "outputs": [
        {
          "name": "stdout",
          "output_type": "stream",
          "text": [
            "Method:  GaussianNB(priors=None, var_smoothing=1e-09)\n",
            "0.8305555555555556\n",
            "[[33  0  0  0  2  1  0  0  0  0]\n",
            " [ 0 27  1  0  0  0  3  0  2  3]\n",
            " [ 0  2 22  0  0  0  0  0 11  0]\n",
            " [ 0  0  1 30  0  0  0  0  5  1]\n",
            " [ 0  1  0  0 29  0  1  4  1  0]\n",
            " [ 0  0  0  1  0 35  0  1  0  0]\n",
            " [ 0  1  0  0  0  0 35  0  0  0]\n",
            " [ 0  0  0  0  0  1  0 35  0  0]\n",
            " [ 0  4  0  1  0  0  0  1 29  0]\n",
            " [ 0  4  1  0  0  0  0  4  3 24]]\n"
          ]
        }
      ],
      "execution_count": 56
    },
    {
      "cell_type": "code",
      "source": "# performing predictions on the test dataset \ny_pred = bag_model.predict(X_test) ",
      "metadata": {},
      "outputs": [],
      "execution_count": 57
    },
    {
      "cell_type": "code",
      "source": "# metrics are used to find accuracy or error \nfrom sklearn import metrics\n# using metrics module for accuracy calculation \nprint(\"ACCURACY OF THE MODEL: \", metrics.accuracy_score(y_test, y_pred))",
      "metadata": {},
      "outputs": [
        {
          "name": "stdout",
          "output_type": "stream",
          "text": [
            "ACCURACY OF THE MODEL:  0.8305555555555556\n"
          ]
        }
      ],
      "execution_count": 58
    },
    {
      "cell_type": "code",
      "source": "lr = LogisticRegression();\n# bnb = BernoulliNB()\ngnb = GaussianNB()\n\nbase_methods=[gnb]\nfor bm  in base_methods:\n    print(\"Method: \", bm)\n    bag_model=BaggingClassifier(base_estimator=bm,n_estimators=100,bootstrap=True)\n    bag_model=bag_model.fit(X_train,y_train)\n    y_test_pred=bag_model.predict(X_test)\n    print(bag_model.score(X_test, y_test))\n    print(confusion_matrix(y_test, y_test_pred))",
      "metadata": {},
      "outputs": [
        {
          "name": "stdout",
          "output_type": "stream",
          "text": [
            "Method:  GaussianNB(priors=None, var_smoothing=1e-09)\n",
            "0.8361111111111111\n",
            "[[33  0  0  0  2  1  0  0  0  0]\n",
            " [ 0 28  1  0  0  0  1  0  3  3]\n",
            " [ 0  2 22  0  0  0  0  0 11  0]\n",
            " [ 0  0  1 30  0  0  0  0  5  1]\n",
            " [ 0  1  0  0 29  0  1  4  1  0]\n",
            " [ 0  0  0  1  0 36  0  0  0  0]\n",
            " [ 0  1  0  0  0  0 35  0  0  0]\n",
            " [ 0  0  0  0  0  1  0 35  0  0]\n",
            " [ 0  4  0  1  0  0  0  1 29  0]\n",
            " [ 0  4  1  0  0  0  0  4  3 24]]\n"
          ]
        }
      ],
      "execution_count": 59
    },
    {
      "cell_type": "code",
      "source": "lr = LogisticRegression();\n# bnb = BernoulliNB()\ngnb = GaussianNB()\n\nbase_methods=[gnb]\nbag_model=BaggingClassifier(base_estimator=bm,n_estimators=100,bootstrap=True)\nbag_model=bag_model.fit(X_train,y_train)\ny_test_pred=bag_model.predict(X_test)\n",
      "metadata": {},
      "outputs": [],
      "execution_count": 60
    },
    {
      "cell_type": "code",
      "source": "#accuracy_score\nfrom sklearn.metrics import accuracy_score\nbagging_accuracy_score =round(accuracy_score(y_test, y_pred),2)\nprint('Accuracy :', bagging_accuracy_score)\n\n#precision_score\nfrom sklearn.metrics import precision_score\nbagging_precision_score=round(precision_score(y_test, y_pred, average='weighted'),2)\nprint(\"Precision Score : \",bagging_precision_score)\n\n#recall_score\nfrom sklearn.metrics import recall_score\nbagging_recall_score=round(recall_score(y_test, y_pred, average='weighted'),2)\nprint(\"Recall Score : \",bagging_recall_score)",
      "metadata": {},
      "outputs": [
        {
          "name": "stdout",
          "output_type": "stream",
          "text": [
            "Accuracy : 0.83\n",
            "Precision Score :  0.85\n",
            "Recall Score :  0.83\n"
          ]
        }
      ],
      "execution_count": 61
    },
    {
      "cell_type": "code",
      "source": "from sklearn.metrics import classification_report, confusion_matrix\nprint(confusion_matrix(y_test, y_pred))\nprint(classification_report(y_test, y_pred))",
      "metadata": {},
      "outputs": [
        {
          "name": "stdout",
          "output_type": "stream",
          "text": [
            "[[33  0  0  0  2  1  0  0  0  0]\n",
            " [ 0 27  1  0  0  0  3  0  2  3]\n",
            " [ 0  2 22  0  0  0  0  0 11  0]\n",
            " [ 0  0  1 30  0  0  0  0  5  1]\n",
            " [ 0  1  0  0 29  0  1  4  1  0]\n",
            " [ 0  0  0  1  0 35  0  1  0  0]\n",
            " [ 0  1  0  0  0  0 35  0  0  0]\n",
            " [ 0  0  0  0  0  1  0 35  0  0]\n",
            " [ 0  4  0  1  0  0  0  1 29  0]\n",
            " [ 0  4  1  0  0  0  0  4  3 24]]\n",
            "              precision    recall  f1-score   support\n",
            "\n",
            "           0       1.00      0.92      0.96        36\n",
            "           1       0.69      0.75      0.72        36\n",
            "           2       0.88      0.63      0.73        35\n",
            "           3       0.94      0.81      0.87        37\n",
            "           4       0.94      0.81      0.87        36\n",
            "           5       0.95      0.95      0.95        37\n",
            "           6       0.90      0.97      0.93        36\n",
            "           7       0.78      0.97      0.86        36\n",
            "           8       0.57      0.83      0.67        35\n",
            "           9       0.86      0.67      0.75        36\n",
            "\n",
            "   micro avg       0.83      0.83      0.83       360\n",
            "   macro avg       0.85      0.83      0.83       360\n",
            "weighted avg       0.85      0.83      0.83       360\n",
            "\n"
          ]
        }
      ],
      "execution_count": 62
    },
    {
      "cell_type": "markdown",
      "source": "## Step 3: Accuracy Results Table (<mark>8 points</mark>)",
      "metadata": {
        "collapsed": true,
        "jupyter": {
          "outputs_hidden": true
        }
      }
    },
    {
      "cell_type": "code",
      "source": "from IPython.display import HTML, display",
      "metadata": {},
      "outputs": [],
      "execution_count": 63
    },
    {
      "cell_type": "code",
      "source": "data = [[\"\", \"KNN\", \"L_SVM\", \"RBF_SVM\", \"NB\",\"DT\",\"RF\",\"Voting\",\"Bagging\" ],\n        [\"Accuracy\",knn_accuracy_score,svm_accuracy_score, gsvm_accuracy_score, nb_accuracy_score,dtree_accuracy_score,rf_accuracy_score,voting_accuracy_score,bagging_accuracy_score],\n        [\"Weighted Precision\",knn_precision_score, svm_precision_score, gsvm_precision_score, nb_precision_score,dtree_precision_score,rf_precision_score,voting_precision_score,bagging_precision_score],\n        [\"Weighted Recall\",knn_recall_score, svm_recall_score, gsvm_recall_score, nb_recall_score,dtree_recall_score,rf_recall_score,voting_recall_score,bagging_recall_score]\n        ]\ndisplay(HTML('<center><h4>load_digits Database</h4><table><tr>{}</tr></table></center>'.format(\n       '</tr><tr>'.join(\n           '<td>{}</td>'.format('</td><td>'.join(str(_) for _ in row)) \n           for row in data)\n       )\n))",
      "metadata": {},
      "outputs": [
        {
          "data": {
            "text/html": [
              "<center><h4>load_digits Database</h4><table><tr><td></td><td>KNN</td><td>L_SVM</td><td>RBF_SVM</td><td>NB</td><td>DT</td><td>RF</td><td>Voting</td><td>Bagging</td></tr><tr><td>Accuracy</td><td>0.98</td><td>0.98</td><td>0.64</td><td>0.89</td><td>0.82</td><td>1.0</td><td>0.82</td><td>0.83</td></tr><tr><td>Weighted Precision</td><td>0.98</td><td>0.98</td><td>0.92</td><td>0.89</td><td>0.82</td><td>1.0</td><td>0.82</td><td>0.85</td></tr><tr><td>Weighted Recall</td><td>0.98</td><td>0.98</td><td>0.64</td><td>0.89</td><td>0.82</td><td>1.0</td><td>0.82</td><td>0.83</td></tr></table></center>"
            ],
            "text/plain": [
              "<IPython.core.display.HTML object>"
            ]
          },
          "metadata": {},
          "output_type": "display_data"
        }
      ],
      "execution_count": 64
    },
    {
      "cell_type": "markdown",
      "source": "## Step 4: Conclusion (<mark>2 Points</mark>)",
      "metadata": {}
    },
    {
      "cell_type": "markdown",
      "source": "<p> I have loaded the digits database and then calculated the accuracy Weighted, Precsion and Weighted Recall values  </p>\n<p>Based on the results, I have understand the Random Forest Algorithm is the best one from all alogirthm.  </p>",
      "metadata": {
        "collapsed": true,
        "jupyter": {
          "outputs_hidden": true
        }
      }
    },
    {
      "cell_type": "markdown",
      "source": "<p>Confusion matrix and classification report are another tool to visualize the model performance.   </p>",
      "metadata": {
        "collapsed": true,
        "jupyter": {
          "outputs_hidden": true
        }
      }
    },
    {
      "cell_type": "markdown",
      "source": "Best Accuracy Algorithms from hight accuracy values to low accuracy values list as follow\n<ol>\n    <li>Random Forest Algorithm</li>\n    <li>KNN and Linear SVM</li>\n    <li>NB</li>\n    <li>Bagging</li>\n    <li>Dession Tree and votting</li>\n    <li>RBF SVM </li>\n</ol>",
      "metadata": {
        "collapsed": true,
        "jupyter": {
          "outputs_hidden": true
        }
      }
    }
  ]
}